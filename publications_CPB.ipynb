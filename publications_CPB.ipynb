{
 "cells": [
  {
   "cell_type": "code",
   "execution_count": 2,
   "metadata": {
    "collapsed": true
   },
   "outputs": [],
   "source": [
    "from Bio import Entrez\n",
    "import pandas as pd"
   ]
  },
  {
   "cell_type": "code",
   "execution_count": 3,
   "metadata": {
    "collapsed": true
   },
   "outputs": [],
   "source": [
    "Entrez.email = 'geena.ildefonso@vanderbilt.edu'\n",
    "\n",
    "\n",
    "def search(query):\n",
    "    \"\"\" search a name across pubmed and return pubmed ids of publications\n",
    "\n",
    "    :param query: string of format \"first_name last_name\"\n",
    "    :return: string of ids of papers\n",
    "    \"\"\"\n",
    "\n",
    "    query_string = '%s[AU] AND vanderbilt university[AD]' % query\n",
    "    handle = Entrez.esearch(db='pubmed',\n",
    "                            sort='relevance',\n",
    "                            retmax='20',\n",
    "                            retmode='xml',\n",
    "                            term=query_string)\n",
    "    try:\n",
    "        results = Entrez.read(handle, validate=True)\n",
    "    except AttributeError:\n",
    "        print(\"did not find any for %s\" % query)\n",
    "        return\n",
    "    if 'Count' in results:\n",
    "        if results['Count'] == '0':\n",
    "            return\n",
    "    else:\n",
    "        return\n",
    "    id_list = results['IdList']\n",
    "    ids = \",\".join(id_num for id_num in id_list)\n",
    "\n",
    "    return ids"
   ]
  },
  {
   "cell_type": "code",
   "execution_count": 4,
   "metadata": {
    "collapsed": true
   },
   "outputs": [],
   "source": [
    "# loads in data, formatted file has FirstName, LastName, and papers as column headers\n",
    "df = pd.read_csv('student_names_list.csv', index_col=False)\n",
    "\n",
    "# empty list to stores papers column\n",
    "new_papers = []\n",
    "for i, row in df.iterrows():\n",
    "    first_name = str(row['FirstName'])\n",
    "    last_name = str(row['LastName'])\n",
    "    full_name = '%s %s' % (first_name, last_name)\n",
    "    tmp_papers = search(full_name)\n",
    "\n",
    "    # if they don't have any publications, None will be returned\n",
    "    # Nothing to do, so return empty string to new_papers column\n",
    "    if tmp_papers is None:\n",
    "        new_papers.append('')\n",
    "        continue\n",
    "\n",
    "    # if it isn't None, lets make it a list\n",
    "    tmp_papers = tmp_papers.split(',')"
   ]
  },
  {
   "cell_type": "code",
   "execution_count": null,
   "metadata": {
    "collapsed": true
   },
   "outputs": [],
   "source": []
  }
 ],
 "metadata": {
  "kernelspec": {
   "display_name": "Python 3",
   "language": "python",
   "name": "python3"
  },
  "language_info": {
   "codemirror_mode": {
    "name": "ipython",
    "version": 3
   },
   "file_extension": ".py",
   "mimetype": "text/x-python",
   "name": "python",
   "nbconvert_exporter": "python",
   "pygments_lexer": "ipython3",
   "version": "3.6.1"
  }
 },
 "nbformat": 4,
 "nbformat_minor": 2
}
